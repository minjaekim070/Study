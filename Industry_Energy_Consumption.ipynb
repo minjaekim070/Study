{
  "nbformat": 4,
  "nbformat_minor": 0,
  "metadata": {
    "colab": {
      "provenance": [],
      "authorship_tag": "ABX9TyP/dX30548KZPvDfx7XNP+g",
      "include_colab_link": true
    },
    "kernelspec": {
      "name": "python3",
      "display_name": "Python 3"
    },
    "language_info": {
      "name": "python"
    }
  },
  "cells": [
    {
      "cell_type": "markdown",
      "metadata": {
        "id": "view-in-github",
        "colab_type": "text"
      },
      "source": [
        "<a href=\"https://colab.research.google.com/github/minjaekim070/Study/blob/main/Industry_Energy_Consumption.ipynb\" target=\"_parent\"><img src=\"https://colab.research.google.com/assets/colab-badge.svg\" alt=\"Open In Colab\"/></a>"
      ]
    },
    {
      "cell_type": "markdown",
      "source": [
        "#데이터 업로드\n",
        "\n"
      ],
      "metadata": {
        "id": "riNFGOYDycaw"
      }
    },
    {
      "cell_type": "code",
      "execution_count": null,
      "metadata": {
        "id": "a744SuDixwiN"
      },
      "outputs": [],
      "source": [
        "#google drive 연결\n",
        "from google.colab import drive\n",
        "drive.mount('/content/drive')"
      ]
    },
    {
      "cell_type": "code",
      "source": [
        "#데이터 압축해제\n",
        "!unzip /content/drive/MyDrive/Steel_Industry_Energy_Consumption.zip"
      ],
      "metadata": {
        "id": "7oEo6lSzxzJ5"
      },
      "execution_count": null,
      "outputs": []
    },
    {
      "cell_type": "markdown",
      "source": [
        "#라이브러리"
      ],
      "metadata": {
        "id": "odPCvVTnyih9"
      }
    },
    {
      "cell_type": "code",
      "source": [
        "import pandas as pd\n",
        "import numpy as np\n",
        "import matplotlib.pyplot as plt\n",
        "from sklearn.preprocessing import StandardScaler\n",
        "import tensorflow as tf\n",
        "from sklearn.metrics import mean_squared_error as mse\n",
        "from tensorflow import keras\n",
        "from sklearn import linear_model\n",
        "from sklearn.model_selection import train_test_split\n",
        "from sklearn.linear_model import LinearRegression, Ridge, Lasso\n",
        "from sklearn import metrics\n",
        "from sklearn.feature_selection import SelectFromModel\n",
        "from tensorflow.keras.layers import Conv2D, MaxPooling2D, Dropout, Flatten, Dense"
      ],
      "metadata": {
        "id": "S3IgGEaHxzZV"
      },
      "execution_count": 3,
      "outputs": []
    },
    {
      "cell_type": "markdown",
      "source": [
        "#데이터 전처리"
      ],
      "metadata": {
        "id": "iXWmX-beykoG"
      }
    },
    {
      "cell_type": "code",
      "source": [
        "#데이터 불러오기\n",
        "df = pd.read_csv('/content/Steel_industry_data.csv')"
      ],
      "metadata": {
        "id": "eOWE7r7ox1m3"
      },
      "execution_count": 4,
      "outputs": []
    },
    {
      "cell_type": "code",
      "source": [
        "#데이터 열 종류 확인\n",
        "print(df.columns)"
      ],
      "metadata": {
        "id": "Z9DBsFnvx2yi"
      },
      "execution_count": null,
      "outputs": []
    },
    {
      "cell_type": "code",
      "source": [
        "#date -> day, month, year\n",
        "df['day'] = pd.to_datetime(df['date']).dt.day\n",
        "df['month'] = pd.to_datetime(df['date']).dt.month\n",
        "df['year'] = pd.to_datetime(df['date']).dt.year"
      ],
      "metadata": {
        "id": "-vlm3a54x4q0"
      },
      "execution_count": 7,
      "outputs": []
    },
    {
      "cell_type": "code",
      "source": [
        "#data 확인\n",
        "df.head()"
      ],
      "metadata": {
        "id": "OIPvSniAx6cd"
      },
      "execution_count": null,
      "outputs": []
    },
    {
      "cell_type": "code",
      "source": [
        "#Day_of_week 열을 이용해서 평일/주말 별 Usage_kWh, Lagging_Current_Reactive.Power_kVarh 분석\n",
        "\n",
        "# 평일/주말 기준으로 그룹화하여 평균 구하기\n",
        "usage_kwh_mean = df.groupby('WeekStatus')['Usage_kWh'].mean()\n",
        "lagging_current_mean = df.groupby('WeekStatus')['Lagging_Current_Reactive.Power_kVarh'].mean()\n",
        "\n",
        "# 출력\n",
        "print(\"평일 / 주말 Usage_kWh 평균:\")\n",
        "print(usage_kwh_mean['Weekday'], '/', usage_kwh_mean['Weekend'])\n",
        "\n",
        "print(\"\\n평일 / 주말 Lagging_Current_Reactive.Power_kVarh 평균:\")\n",
        "print(lagging_current_mean['Weekday'],'/',lagging_current_mean['Weekend'])"
      ],
      "metadata": {
        "id": "XYfwl_3Kx74K"
      },
      "execution_count": null,
      "outputs": []
    },
    {
      "cell_type": "code",
      "source": [
        "# 시각화 - Usage_kWh 그래프\n",
        "plt.figure(figsize=(8, 5))\n",
        "plt.bar('Weekday', usage_kwh_mean['Weekday'], color='blue', label='Weekday')\n",
        "plt.bar('Weekend', usage_kwh_mean['Weekend'], color='red', label='Weekend')\n",
        "plt.title('Average Usage_kWh')\n",
        "plt.ylabel('Average')\n",
        "plt.legend()\n",
        "\n",
        "plt.tight_layout()\n",
        "plt.show()\n",
        "\n",
        "# 시각화 - Lagging_Current_Reactive.Power_kVarh 그래프\n",
        "plt.figure(figsize=(8, 5))\n",
        "plt.bar('Weekday', lagging_current_mean['Weekday'], color='blue', label='Weekday')\n",
        "plt.bar('Weekend', lagging_current_mean['Weekend'], color='red', label='Weekend')\n",
        "plt.title('Average Lagging_Current_Reactive.Power_kVarh')\n",
        "plt.ylabel('Average')\n",
        "plt.legend()\n",
        "\n",
        "plt.tight_layout()\n",
        "plt.show()"
      ],
      "metadata": {
        "id": "3NqmEuFax9G5"
      },
      "execution_count": null,
      "outputs": []
    },
    {
      "cell_type": "code",
      "source": [],
      "metadata": {
        "id": "B6ETe0eJyTeW"
      },
      "execution_count": null,
      "outputs": []
    }
  ]
}